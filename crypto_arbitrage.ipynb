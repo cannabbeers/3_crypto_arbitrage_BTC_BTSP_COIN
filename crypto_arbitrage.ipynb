{
 "cells": [
  {
   "cell_type": "markdown",
   "metadata": {
    "tags": []
   },
   "source": [
    "## Crypto Arbitrage\n",
    "\n",
    "In this Challenge, you'll take on the role of an analyst at a high-tech investment firm. The vice president (VP) of your department is considering arbitrage opportunities in Bitcoin and other cryptocurrencies. As Bitcoin trades on markets across the globe, can you capitalize on simultaneous price dislocations in those markets by using the powers of Pandas?\n",
    "\n",
    "For this assignment, you’ll sort through historical trade data for Bitcoin on two exchanges: Bitstamp and Coinbase. Your task is to apply the three phases of financial analysis to determine if any arbitrage opportunities exist for Bitcoin.\n",
    "\n",
    "This aspect of the Challenge will consist of 3 phases.\n",
    "\n",
    "1. Collect the data.\n",
    "\n",
    "2. Prepare the data.\n",
    "\n",
    "3. Analyze the data. \n",
    "\n"
   ]
  },
  {
   "cell_type": "markdown",
   "metadata": {},
   "source": [
    "###  Import the required libraries and dependencies."
   ]
  },
  {
   "cell_type": "code",
   "execution_count": null,
   "metadata": {},
   "outputs": [],
   "source": [
    "import pandas as pd\n",
    "from pathlib import Path\n",
    "%matplotlib inline"
   ]
  },
  {
   "cell_type": "markdown",
   "metadata": {
    "tags": []
   },
   "source": [
    "## Collect the Data\n",
    "\n",
    "To collect the data that you’ll need, complete the following steps:\n",
    "\n",
    "Instructions. \n",
    "\n",
    "1. Using the Pandas `read_csv` function and the `Path` module, import the data from `bitstamp.csv` file, and create a DataFrame called `bitstamp`. Set the DatetimeIndex as the Timestamp column, and be sure to parse and format the dates.\n",
    "\n",
    "2. Use the `head` (and/or the `tail`) function to confirm that Pandas properly imported the data.\n",
    "\n",
    "3. Repeat Steps 1 and 2 for `coinbase.csv` file."
   ]
  },
  {
   "cell_type": "markdown",
   "metadata": {},
   "source": [
    "### Step 1: Using the Pandas `read_csv` function and the `Path` module, import the data from `bitstamp.csv` file, and create a DataFrame called `bitstamp`. Set the DatetimeIndex as the Timestamp column, and be sure to parse and format the dates."
   ]
  },
  {
   "cell_type": "code",
   "execution_count": null,
   "metadata": {},
   "outputs": [],
   "source": [
    "# Read in the CSV file called \"bitstamp.csv\" using the Path module. \n",
    "# The CSV file is located in the Resources folder.\n",
    "# Set the index to the column \"Date\"\n",
    "# Set the parse_dates and infer_datetime_format parameters\n",
    "bitstamp = pd.read_csv(\n",
    "    Path(\"Resources/bitstamp.csv\"),\n",
    "    index_col=\"Timestamp\",\n",
    "    parse_dates=True,\n",
    "    infer_datetime_format=True\n",
    ")\n"
   ]
  },
  {
   "cell_type": "markdown",
   "metadata": {},
   "source": [
    "### Step 2: Use the `head` (and/or the `tail`) function to confirm that Pandas properly imported the data."
   ]
  },
  {
   "cell_type": "code",
   "execution_count": null,
   "metadata": {},
   "outputs": [],
   "source": [
    "# Use the head (and/or tail) function to confirm that the data was imported properly.\n",
    "bitstamp.head(), bitstamp.tail()"
   ]
  },
  {
   "cell_type": "markdown",
   "metadata": {},
   "source": [
    "### Step 3: Repeat Steps 1 and 2 for `coinbase.csv` file."
   ]
  },
  {
   "cell_type": "code",
   "execution_count": null,
   "metadata": {},
   "outputs": [],
   "source": [
    "# Read in the CSV file called \"coinbase.csv\" using the Path module. \n",
    "# The CSV file is located in the Resources folder.\n",
    "# Set the index to the column \"Timestamp\"\n",
    "# Set the parse_dates and infer_datetime_format parameters\n",
    "\n",
    "\n",
    "coinbase = pd.read_csv(\n",
    "    Path(\"Resources/coinbase.csv\"),\n",
    "    index_col=\"Timestamp\",\n",
    "    parse_dates=True,\n",
    "    infer_datetime_format=True\n",
    ")"
   ]
  },
  {
   "cell_type": "code",
   "execution_count": null,
   "metadata": {},
   "outputs": [],
   "source": [
    "# Use the head (and/or tail) function to confirm that the data was imported properly.\n",
    "coinbase.head(),coinbase.tail()"
   ]
  },
  {
   "cell_type": "markdown",
   "metadata": {
    "tags": []
   },
   "source": [
    "## Prepare the Data\n",
    "\n",
    "To prepare and clean your data for analysis, complete the following steps:\n",
    "\n",
    "1. For the bitstamp DataFrame, replace or drop all `NaN`, or missing, values in the DataFrame.\n",
    "\n",
    "2. Use the `str.replace` function to remove the dollar signs ($) from the values in the Close column.\n",
    "\n",
    "3. Convert the data type of the Close column to a `float`.\n",
    "\n",
    "4. Review the data for duplicated values, and drop them if necessary.\n",
    "\n",
    "5. Repeat Steps 1–4 for the coinbase DataFrame."
   ]
  },
  {
   "cell_type": "markdown",
   "metadata": {},
   "source": [
    "### Step 1: For the bitstamp DataFrame, replace or drop all `NaN`, or missing, values in the DataFrame."
   ]
  },
  {
   "cell_type": "code",
   "execution_count": null,
   "metadata": {},
   "outputs": [],
   "source": [
    "# For the bitstamp DataFrame, replace or drop all NaNs or missing values in the DataFrame\n",
    "bitstamp.isnull().sum()"
   ]
  },
  {
   "cell_type": "code",
   "execution_count": null,
   "metadata": {},
   "outputs": [],
   "source": [
    "bitstamp = bitstamp.dropna().copy()"
   ]
  },
  {
   "cell_type": "markdown",
   "metadata": {},
   "source": [
    "### Step 2: Use the `str.replace` function to remove the dollar signs ($) from the values in the Close column."
   ]
  },
  {
   "cell_type": "code",
   "execution_count": null,
   "metadata": {},
   "outputs": [],
   "source": [
    "# Use the str.replace function to remove the dollar sign, $\n",
    "bitstamp[\"Close\"] = bitstamp[\"Close\"].str.replace(\"$\", \"\")"
   ]
  },
  {
   "cell_type": "markdown",
   "metadata": {},
   "source": [
    "### Step 3: Convert the data type of the Close column to a `float`."
   ]
  },
  {
   "cell_type": "code",
   "execution_count": null,
   "metadata": {},
   "outputs": [],
   "source": [
    "# Convert the Close data type to a float\n",
    "bitstamp.dtypes"
   ]
  },
  {
   "cell_type": "code",
   "execution_count": null,
   "metadata": {},
   "outputs": [],
   "source": [
    "bitstamp[\"Close\"] = bitstamp[\"Close\"].astype(\"float\")"
   ]
  },
  {
   "cell_type": "markdown",
   "metadata": {},
   "source": [
    "### Step 4: Review the data for duplicated values, and drop them if necessary."
   ]
  },
  {
   "cell_type": "code",
   "execution_count": null,
   "metadata": {},
   "outputs": [],
   "source": [
    "# Review the data for duplicate values, and drop them if necessary\n",
    "bitstamp.duplicated().sum()"
   ]
  },
  {
   "cell_type": "code",
   "execution_count": null,
   "metadata": {},
   "outputs": [],
   "source": [
    " # final data review for bitstamp\n",
    "bitstamp.isnull().sum(), bitstamp.dtypes, bitstamp.duplicated().sum()"
   ]
  },
  {
   "cell_type": "markdown",
   "metadata": {},
   "source": [
    "### Step 5: Repeat Steps 1–4 for the coinbase DataFrame."
   ]
  },
  {
   "cell_type": "code",
   "execution_count": null,
   "metadata": {},
   "outputs": [],
   "source": [
    "# Repeat Steps 1–4 for the coinbase DataFrame\n",
    "\n",
    "# Step 1 - replace or drop NaN's\n",
    "\n",
    "coinbase.isnull().sum()"
   ]
  },
  {
   "cell_type": "code",
   "execution_count": null,
   "metadata": {},
   "outputs": [],
   "source": [
    "coinbase = coinbase.dropna().copy()"
   ]
  },
  {
   "cell_type": "code",
   "execution_count": null,
   "metadata": {},
   "outputs": [],
   "source": [
    "# Step 2 - remove the \"$\"s\n",
    "\n",
    "coinbase[\"Close\"] = coinbase[\"Close\"].str.replace(\"$\", \"\")"
   ]
  },
  {
   "cell_type": "code",
   "execution_count": null,
   "metadata": {},
   "outputs": [],
   "source": [
    "# Step 3 - convert 'Close' column data to 'float' \n",
    "\n",
    "coinbase[\"Close\"] = coinbase[\"Close\"].astype(\"float\")"
   ]
  },
  {
   "cell_type": "code",
   "execution_count": null,
   "metadata": {},
   "outputs": [],
   "source": [
    "# Step 4 - remove any duplicates\n",
    "\n",
    "coinbase.duplicated().sum()"
   ]
  },
  {
   "cell_type": "code",
   "execution_count": null,
   "metadata": {},
   "outputs": [],
   "source": [
    "# final data review for coinbase \n",
    "coinbase.isnull().sum(), coinbase.dtypes, coinbase.duplicated().sum()"
   ]
  },
  {
   "cell_type": "markdown",
   "metadata": {
    "tags": []
   },
   "source": [
    "## Analyze the Data\n",
    "\n",
    "Your analysis consists of the following tasks: \n",
    "\n",
    "1. Choose the columns of data on which to focus your analysis.\n",
    "\n",
    "2. Get the summary statistics and plot the data.\n",
    "\n",
    "3. Focus your analysis on specific dates.\n",
    "\n",
    "4. Calculate the arbitrage profits."
   ]
  },
  {
   "cell_type": "markdown",
   "metadata": {
    "tags": []
   },
   "source": [
    "### Step 1: Choose columns of data on which to focus your analysis.\n",
    "\n",
    "Select the data you want to analyze. Use `loc` or `iloc` to select the following columns of data for both the bitstamp and coinbase DataFrames:\n",
    "\n",
    "* Timestamp (index)\n",
    "\n",
    "* Close\n"
   ]
  },
  {
   "cell_type": "code",
   "execution_count": null,
   "metadata": {},
   "outputs": [],
   "source": [
    "# Use loc or iloc to select `Timestamp (the index)` and `Close` from bitstamp DataFrame\n",
    "# shortened name of df named in starter code to 'btsp'\n",
    "\n",
    "btsp = bitstamp_sliced = bitstamp.loc[:,['Close']]\n",
    "\n",
    "# Review the first five rows of the DataFrame\n",
    "btsp.head()"
   ]
  },
  {
   "cell_type": "code",
   "execution_count": null,
   "metadata": {},
   "outputs": [],
   "source": [
    "# Use loc or iloc to select `Timestamp (the index)` and `Close` from coinbase DataFrame\n",
    "# shortened name of df named in starter code to 'coin'\n",
    "\n",
    "coin = coinbase_sliced = coinbase.loc[:,['Close']]\n",
    "\n",
    "# Review the first five rows of the DataFrame\n",
    "coin.head()"
   ]
  },
  {
   "cell_type": "markdown",
   "metadata": {},
   "source": [
    "### Step 2: Get summary statistics and plot the data.\n",
    "\n",
    "Sort through the time series data associated with the bitstamp and coinbase DataFrames to identify potential arbitrage opportunities. To do so, complete the following steps:\n",
    "\n",
    "1. Generate the summary statistics for each DataFrame by using the `describe` function.\n",
    "\n",
    "2. For each DataFrame, create a line plot for the full period of time in the dataset. Be sure to tailor the figure size, title, and color to each visualization.\n",
    "\n",
    "3. In one plot, overlay the visualizations that you created in Step 2 for bitstamp and coinbase. Be sure to adjust the legend and title for this new visualization.\n",
    "\n",
    "4. Using the `loc` and `plot` functions, plot the price action of the assets on each exchange for different dates and times. Your goal is to evaluate how the spread between the two exchanges changed across the time period that the datasets define. Did the degree of spread change as time progressed?"
   ]
  },
  {
   "cell_type": "code",
   "execution_count": null,
   "metadata": {},
   "outputs": [],
   "source": [
    "# Generate the summary statistics for the bitstamp DataFrame\n",
    "btsp.describe()"
   ]
  },
  {
   "cell_type": "code",
   "execution_count": null,
   "metadata": {},
   "outputs": [],
   "source": [
    "# Generate the summary statistics for the coinbase DataFrame\n",
    "coin.describe()"
   ]
  },
  {
   "cell_type": "code",
   "execution_count": null,
   "metadata": {},
   "outputs": [],
   "source": [
    "# Create a line plot for the bitstamp DataFrame for the full length of time in the dataset \n",
    "# Be sure that the figure size, title, and color are tailored to each visualization\n",
    "\n",
    "# found a 'web safe' color template # from https://www.colorhexa.com/web-safe-colors\n",
    "\n",
    "btsp['Close'].plot(\n",
    "    figsize=(12,6),\n",
    "    legend=True,\n",
    "    label='BTC',\n",
    "    ylabel=\"BTC Price (USD$)\",\n",
    "    title=\"Bitstamp Exchange: 2018 - Q1\",\n",
    "    color=\"#666600\" \n",
    ") "
   ]
  },
  {
   "cell_type": "code",
   "execution_count": null,
   "metadata": {},
   "outputs": [],
   "source": [
    "# Create a line plot for the coinbase DataFrame for the full length of time in the dataset \n",
    "# Be sure that the figure size, title, and color are tailored to each visualization\n",
    "\n",
    "# set color to '#ff9900' for visibility alone and good contrast to 'dark green' # https://www.colorhexa.com/web-safe-colors\n",
    "\n",
    "coin['Close'].plot(\n",
    "    figsize=(12,6), \n",
    "    legend=True,\n",
    "    label='BTC',\n",
    "    ylabel=\"BTC Price (USD$)\", \n",
    "    title=\"Coinbase Excgange: 2018 - Q1\",\n",
    "    color=\"#ff9900\"\n",
    ")"
   ]
  },
  {
   "cell_type": "code",
   "execution_count": null,
   "metadata": {},
   "outputs": [],
   "source": [
    "# Overlay the visualizations for the bitstamp and coinbase DataFrames in one plot\n",
    "# The plot should visualize the prices over the full lenth of the dataset\n",
    "# Be sure to include the parameters: legend, figure size, title, and color and label\n",
    "\n",
    "ax=btsp['Close'].plot(\n",
    "    figsize=(18,6),\n",
    "    legend=True,\n",
    "    ylabel=\"BTC Price (USD$)\",\n",
    "    title=\"BTC Arbitrage Opportunities: Q1 2018 on BTSP and COIN\",\n",
    "    color=\"#666600\",\n",
    "    label=\"BTC on Bitstamp\"\n",
    ")\n",
    "coin['Close'].plot(\n",
    "    ax=ax,\n",
    "    legend=True,\n",
    "    color=\"#ff9900\", \n",
    "    label=\"BTC on Coinbase\"\n",
    ")"
   ]
  },
  {
   "cell_type": "code",
   "execution_count": null,
   "metadata": {},
   "outputs": [],
   "source": [
    "### EARLY WINDOW ###\n",
    "# Using the loc and plot functions, create an overlay plot that visualizes \n",
    "# the price action of both DataFrames for a one month period early in the dataset\n",
    "# Be sure to include the parameters: legend, figure size, title, and color and label\n",
    "\n",
    "bitstamp['Close'].loc['2018-01-20' : '2018-02-18'].plot(\n",
    "    legend=True,\n",
    "    figsize=(18,6),\n",
    "    ylabel=\"BTC Price (USD$)\",\n",
    "    title=\"BTC Arbitrage Opportunities (early window): BTSP and COIN\",\n",
    "    color=\"#666600\",\n",
    "    label=\"BTC on Bitstamp\"\n",
    ")\n",
    "coinbase['Close'].loc['2018-01-20' : '2018-02-18'].plot(\n",
    "    legend=True,\n",
    "    color=\"#ff9900\",\n",
    "    label=\"BTC on Coinbase\"\n",
    ")"
   ]
  },
  {
   "cell_type": "code",
   "execution_count": null,
   "metadata": {},
   "outputs": [],
   "source": [
    "### MIDDLE WINDOW ###\n",
    "# Using the loc and plot functions, create an overlay plot that visualizes \n",
    "# the price action of both DataFrames for a one month period early in the dataset\n",
    "# Be sure to include the parameters: legend, figure size, title, and color and label\n",
    "\n",
    "bitstamp['Close'].loc['2018-02-10' : '2018-03-10'].plot(\n",
    "    legend=True,\n",
    "    figsize=(18,6),    \n",
    "    ylabel=\"BTC Price (USD$)\",\n",
    "    title=\"BTC Arbitrage Opportunities (early window): BTSP and COIN\",\n",
    "    color=\"#666600\",\n",
    "    label=\"BTC on Bitstamp\")\n",
    "\n",
    "coinbase['Close'].loc['2018-02-10' : '2018-03-10'].plot(\n",
    "    legend=True,\n",
    "    color=\"#ff9900\",\n",
    "    label=\"BTC on Coinbase\"\n",
    ")"
   ]
  },
  {
   "cell_type": "code",
   "execution_count": null,
   "metadata": {},
   "outputs": [],
   "source": [
    " ### LATER WINDOW ###\n",
    "# Using the loc and plot functions, create an overlay plot that visualizes\n",
    "# the price action of both DataFrames for a one month period later in the dataset\n",
    "# Be sure to include the parameters: legend, figure size, title, and color and label \n",
    "\n",
    "bitstamp['Close'].loc['2018-02-20' : '2018-03-20'].plot(\n",
    "    legend=True,\n",
    "    figsize=(18,6),\n",
    "    title=\"BTC Arbitrage Opportunities (later window): BTSP and COIN\",\n",
    "    color=\"#666600\",\n",
    "    label=\"BTC on Bitstamp\")\n",
    "\n",
    "coinbase['Close'].loc['2018-02-20' : '2018-03-20'].plot(\n",
    "    legend=True,\n",
    "    figsize=(18,6),\n",
    "    ylabel=\"BTC Price (USD$)\",\n",
    "    color=\"#ff9900\",\n",
    "    label=\"BTC on Coinbase\")"
   ]
  },
  {
   "cell_type": "code",
   "execution_count": null,
   "metadata": {},
   "outputs": [],
   "source": []
  },
  {
   "cell_type": "markdown",
   "metadata": {},
   "source": [
    "**Question** Based on the visualizations of the different time periods, has the degree of spread change as time progressed?\n",
    "\n",
    "**Answer** Yes.  At the beginning of Q1 2018, BTC traded in close range with little spread.  By the end of Jan. 2018, BTC price showed a significantly  wide spread that generated an arbitrage opportunity based on the visual alone.  Then in Feb. to March 2018, the spread appears to maintain a narrow spread."
   ]
  },
  {
   "cell_type": "markdown",
   "metadata": {},
   "source": [
    "### Step 3: Focus Your Analysis on Specific Dates\n",
    "\n",
    "Focus your analysis on specific dates by completing the following steps:\n",
    "\n",
    "1. Select three dates to evaluate for arbitrage profitability. Choose one date that’s early in the dataset, one from the middle of the dataset, and one from the later part of the time period.\n",
    "\n",
    "2. For each of the three dates, generate the summary statistics and then create a box plot. This big-picture view is meant to help you gain a better understanding of the data before you perform your arbitrage calculations. As you compare the data, what conclusions can you draw?"
   ]
  },
  {
   "cell_type": "code",
   "execution_count": null,
   "metadata": {},
   "outputs": [],
   "source": [
    "# 1. Select three dates to evaluate for arbitrage profitability ### doing this first makes it easier to follow 'DRY' coding ###\n",
    "\n",
    "### Jan. 28 - early date #### BTSP > COIN\n",
    "early_btsp = btsp.loc[ \n",
    "    \"2018-01-28\":\"2018-01-28\"\n",
    "]\n",
    "early_coin = coin.loc[\n",
    "    \"2018-01-28\":\"2018-01-28\"\n",
    "]\n",
    "\n",
    "### Feb. 19 - middle date #### BTSP > COIN\n",
    "mid_btsp = btsp.loc[\n",
    "    \"2018-02-19\":\"2018-02-19\"\n",
    "]\n",
    "mid_coin = coin.loc[\n",
    "    \"2018-02-19\":\"2018-02-19\"\n",
    "]\n",
    "\n",
    "### Mar. 14 - late date #### BTSP > COIN\n",
    "late_btsp = btsp.loc[\n",
    "    \"2018-03-14\":\"2018-03-14\"\n",
    "]\n",
    "late_coin = coin.loc[\n",
    "    \"2018-03-14\":\"2018-03-14\"\n",
    "]"
   ]
  },
  {
   "cell_type": "code",
   "execution_count": null,
   "metadata": {},
   "outputs": [],
   "source": [
    "### EARLY WINDOW SAMPLE DATE ###\n",
    "\n",
    "# Create an overlay plot that visualizes the two dataframes over a period of one day early in the dataset. \n",
    "# Be sure that the plots include the parameters `legend`, `figsize`, `title`, `color` and `label` \n",
    "\n",
    "ax=early_btsp['Close'].plot(\n",
    "    figsize=(18,6),\n",
    "    legend=True, \n",
    "    label=\"Bitstamp\",\n",
    "    ylabel=\"Price (USD$)\",\n",
    "    title=\"Early BTC price spread January 28, 2018: BTSP and COIN\",\n",
    "    color=\"#666600\"\n",
    ")\n",
    "\n",
    "early_coin['Close'].plot(\n",
    "    ax=ax,\n",
    "    legend=True,\n",
    "    label=\"Coinbase\",\n",
    "    color=\"#ff9900\"\n",
    ")"
   ]
  },
  {
   "cell_type": "code",
   "execution_count": null,
   "metadata": {
    "tags": []
   },
   "outputs": [],
   "source": [
    "# Using the early date that you have selected, calculate the arbitrage spread \n",
    "# by subtracting the bitstamp lower closing prices from the coinbase higher closing prices\n",
    "\n",
    "# BTSP > COIN - for BTC\n",
    "arb_sprd_0128 = early_btsp['Close'] - early_coin['Close']\n",
    "\n",
    "# Generate summary statistics for the early DataFrame\n",
    "arb_sprd_0128.describe()\n"
   ]
  },
  {
   "cell_type": "code",
   "execution_count": null,
   "metadata": {},
   "outputs": [],
   "source": [
    "# Visualize the arbitrage spread from early in the dataset in a box plot\n",
    "arb_sprd_0128.plot(\n",
    "    kind=\"box\",\n",
    "    figsize=(10,4),\n",
    "    title=\"Early BTC Arbitrage Spread: Jan. 28, 2018\"\n",
    ")"
   ]
  },
  {
   "cell_type": "code",
   "execution_count": null,
   "metadata": {},
   "outputs": [],
   "source": [
    "### MIDDLE WINDOW SAMPLE DATE ###\n",
    "# Create an overlay plot that visualizes the two dataframes over a period of one day from the middle of the dataset. \n",
    "# Be sure that the plots include the parameters `legend`, `figsize`, `title`, `color` and `label` \n",
    "\n",
    "ax=mid_btsp['Close'].plot(\n",
    "    legend=True,\n",
    "    label=\"Bitstamp\",\n",
    "    figsize=(18,6),\n",
    "    ylabel=\"BTC Price (USD$)\",\n",
    "    title=\"Middle BTC price spread - February 19, 2018: BTSP and COIN\",\n",
    "    color=\"#666600\"\n",
    ")                      \n",
    "mid_coin['Close'].plot(\n",
    "    ax=ax,\n",
    "    legend=True,\n",
    "    label=\"Coinbase\",\n",
    "    color=\"#ff9900\"\n",
    ")"
   ]
  },
  {
   "cell_type": "code",
   "execution_count": null,
   "metadata": {},
   "outputs": [],
   "source": [
    "# Using the date in the middle that you have selected, calculate the arbitrage spread \n",
    "# by subtracting the bitstamp lower closing prices from the coinbase higher closing prices\n",
    "\n",
    "# BTSP > COIN\n",
    "arb_sprd_0219 = mid_btsp['Close'] - mid_coin['Close']\n",
    "\n",
    "# Generate summary statistics \n",
    "arb_sprd_0219.describe()"
   ]
  },
  {
   "cell_type": "code",
   "execution_count": null,
   "metadata": {},
   "outputs": [],
   "source": [
    "# Visualize the arbitrage spread from the middle of the dataset in a box plot\n",
    "arb_sprd_0219.plot(\n",
    "    kind=\"box\",\n",
    "    legend=True,\n",
    "    figsize=(10,4),\n",
    "    title=\"Middle BTC Arbitrage Spread: Feb. 19, 2018\"\n",
    ")"
   ]
  },
  {
   "cell_type": "code",
   "execution_count": null,
   "metadata": {},
   "outputs": [],
   "source": [
    "# Create an overlay plot that visualizes the two dataframes over a period of one day from the middle of the dataset. \n",
    "# Be sure that the plots include the parameters `legend`, `figsize`, `title`, `color` and `label` \n",
    "\n",
    "ax=late_btsp['Close'].plot(\n",
    "    legend=True,\n",
    "    label=\"Bitstamp\",\n",
    "    figsize=(18,6),\n",
    "    ylabel=\"BTC Price (USD$)\",\n",
    "    title=\"Late BTC price spread - March 14, 2018: BTSP and COIN\",\n",
    "    color=\"#666600\")\n",
    "                      \n",
    "late_coin['Close'].plot(\n",
    "    ax=ax,\n",
    "    legend=True,\n",
    "    label=\"Coinbase\",\n",
    "    color=\"#ff9900\")"
   ]
  },
  {
   "cell_type": "code",
   "execution_count": null,
   "metadata": {},
   "outputs": [],
   "source": [
    "# Using the date in the later third of df that you have selected, calculate the arbitrage spread \n",
    "# by subtracting the bitstamp lower closing prices from the coinbase higher closing prices\n",
    "\n",
    "# BTSP > COIN\n",
    "arb_sprd_0314 = late_btsp['Close'] - late_coin['Close']\n",
    "\n",
    "# Generate summary statistics \n",
    "arb_sprd_0314.describe()"
   ]
  },
  {
   "cell_type": "code",
   "execution_count": null,
   "metadata": {},
   "outputs": [],
   "source": [
    "# Visualize the arbitrage spread from late in the dataset in a box plot\n",
    "arb_sprd_0314.plot(\n",
    "    kind=\"box\",\n",
    "    legend=True,\n",
    "    figsize=(10,4),\n",
    "    title=\"Late BTC Arbitrage Spread: Mar. 14, 2018\"\n",
    ")"
   ]
  },
  {
   "cell_type": "markdown",
   "metadata": {},
   "source": [
    "### Step 4: Calculate the Arbitrage Profits\n",
    "\n",
    "Calculate the potential profits for each date that you selected in the previous section. Your goal is to determine whether arbitrage opportunities still exist in the Bitcoin market. Complete the following steps:\n",
    "\n",
    "1. For each of the three dates, measure the arbitrage spread between the two exchanges by subtracting the lower-priced exchange from the higher-priced one. Then use a conditional statement to generate the summary statistics for each arb_sprd DataFrame, where the spread is greater than zero.\n",
    "\n",
    "2. For each of the three dates, calculate the spread returns. To do so, divide the instances that have a positive arbitrage spread (that is, a spread greater than zero) by the price of Bitcoin from the exchange you’re buying on (that is, the lower-priced exchange). Review the resulting DataFrame.\n",
    "\n",
    "3. For each of the three dates, narrow down your trading opportunities even further. To do so, determine the number of times your trades with positive returns exceed the 1% minimum threshold that you need to cover your costs.\n",
    "\n",
    "4. Generate the summary statistics of your spread returns that are greater than 1%. How do the average returns compare among the three dates?\n",
    "\n",
    "5. For each of the three dates, calculate the potential profit, in dollars, per trade. To do so, multiply the spread returns that were greater than 1% by the cost of what was purchased. Make sure to drop any missing values from the resulting DataFrame.\n",
    "\n",
    "6. Generate the summary statistics, and plot the results for each of the three DataFrames.\n",
    "\n",
    "7. Calculate the potential arbitrage profits that you can make on each day. To do so, sum the elements in the profit_per_trade DataFrame.\n",
    "\n",
    "8. Using the `cumsum` function, plot the cumulative sum of each of the three DataFrames. Can you identify any patterns or trends in the profits across the three time periods?\n",
    "\n",
    "(NOTE: The starter code displays only one date. You'll want to do this analysis for two additional dates)."
   ]
  },
  {
   "cell_type": "markdown",
   "metadata": {},
   "source": [
    "#### 1. For each of the three dates, measure the arbitrage spread between the two exchanges by subtracting the lower-priced exchange from the higher-priced one. Then use a conditional statement to generate the summary statistics for each arb_sprd DataFrame, where the spread is greater than zero.\n",
    "\n",
    "*NOTE*: For illustration, only one of the three dates is shown in the starter code below."
   ]
  },
  {
   "cell_type": "code",
   "execution_count": null,
   "metadata": {},
   "outputs": [],
   "source": [
    "# For the date early in the dataset, measure the arbitrage spread between the two exchanges\n",
    "# by subtracting the lower-priced exchange from the higher-priced one\n",
    "\n",
    "# Use a conditional statement to generate the summary statistics for each arb_sprd DataFrame\n",
    "arb_sprd_0128[arb_sprd_0128 > 0].describe(),arb_sprd_0219[arb_sprd_0219 > 0].describe(),arb_sprd_0314[arb_sprd_0314 > 0].describe()\n"
   ]
  },
  {
   "cell_type": "markdown",
   "metadata": {},
   "source": [
    "#### 2. For each of the three dates, calculate the spread returns. To do so, divide the instances that have a positive arbitrage spread (that is, a spread greater than zero) by the price of Bitcoin from the exchange you’re buying on (that is, the lower-priced exchange). Review the resulting DataFrame."
   ]
  },
  {
   "cell_type": "code",
   "execution_count": null,
   "metadata": {},
   "outputs": [],
   "source": [
    "# For the date early in the dataset, calculate the spread returns by dividing the instances when the arbitrage spread is positive (> 0) \n",
    "# by the price of Bitcoin from the exchange you are buying on (the lower-priced exchange).\n",
    "\n",
    "# spread_return_0128 = arb_sprd_0128[arb_sprd_0128>0] / early_coin['Close']\n",
    "spread_return_0128 = arb_sprd_0128[arb_sprd_0128>0] / early_coin['Close']\n",
    "\n",
    "# spread_return_0219 = arb_sprd_0219[arb_sprd_0219>0] / mid_coin['Close']\n",
    "spread_return_0219 = arb_sprd_0219[arb_sprd_0219>0] / mid_coin['Close']\n",
    "\n",
    "# spread_return_0314 = arb_sprd_0314[arb_sprd_0314>0] / late_coin['Close']\n",
    "spread_return_0314 = arb_sprd_0314[arb_sprd_0314>0] / late_coin['Close']\n",
    "\n",
    "\n",
    "# Review the spread return DataFrame\n",
    "display(spread_return_0128.head(10), spread_return_0128.tail(10))\n",
    "display(spread_return_0219.head(10), spread_return_0219.tail(10))\n",
    "display(spread_return_0314.head(10), spread_return_0314.tail(10))"
   ]
  },
  {
   "cell_type": "markdown",
   "metadata": {},
   "source": [
    "#### 3. For each of the three dates, narrow down your trading opportunities even further. To do so, determine the number of times your trades with positive returns exceed the 1% minimum threshold that you need to cover your costs."
   ]
  },
  {
   "cell_type": "code",
   "execution_count": null,
   "metadata": {},
   "outputs": [],
   "source": [
    "# For the date early in the dataset, determine the number of times your trades with positive returns \n",
    "# exceed the 1% minimum threshold (.01) that you need to cover your costs\n",
    "profitable_trading_0128 = spread_return_0128[spread_return_0128 > .01]\n",
    "profitable_trading_0219 = spread_return_0219[spread_return_0219 > .01]\n",
    "profitable_trading_0314 = spread_return_0314[spread_return_0314 > .01]\n",
    "\n",
    "# Review the first five profitable trades\n",
    "profitable_trading_0128.head(), profitable_trading_0219.head(), profitable_trading_0314.head()"
   ]
  },
  {
   "cell_type": "markdown",
   "metadata": {},
   "source": [
    "#### 4. Generate the summary statistics of your spread returns that are greater than 1%. How do the average returns compare among the three dates?"
   ]
  },
  {
   "cell_type": "code",
   "execution_count": null,
   "metadata": {},
   "outputs": [],
   "source": [
    "# For the date early in the dataset, generate the summary statistics for the profitable trades\n",
    "# or you trades where the spread returns are are greater than 1%\n",
    "profitable_trading_0128.describe(), profitable_trading_0219.describe(), profitable_trading_0314.describe()"
   ]
  },
  {
   "cell_type": "markdown",
   "metadata": {},
   "source": [
    "#### 5. For each of the three dates, calculate the potential profit, in dollars, per trade. To do so, multiply the spread returns that were greater than 1% by the cost of what was purchased. Make sure to drop any missing values from the resulting DataFrame."
   ]
  },
  {
   "cell_type": "code",
   "execution_count": null,
   "metadata": {},
   "outputs": [],
   "source": [
    "# For the date early in the dataset, calculate the potential profit per trade in dollars \n",
    "# Multiply the profitable trades by the cost of the Bitcoin that was purchased\n",
    "\n",
    "profit_0128 = profitable_trading_0128 * early_coin\n",
    "profit_0219 = profitable_trading_0219 * mid_coin\n",
    "profit_0314 = profitable_trading_0314 * late_coin\n",
    "\n",
    "# Drop any missing values from the profit DataFrame\n",
    "profit_0128 = profitable_trading_0128.dropna().copy()\n",
    "profit_0219 = profitable_trading_0219.dropna().copy()\n",
    "profit_0314 = profitable_trading_0314.dropna().copy()\n",
    "\n",
    "\n",
    "# View the early profit DataFrame\n",
    "profit_0128.head(), profit_0219.head(),  profit_0314.head()\n"
   ]
  },
  {
   "cell_type": "markdown",
   "metadata": {},
   "source": [
    "#### 6. Generate the summary statistics, and plot the results for each of the three DataFrames."
   ]
  },
  {
   "cell_type": "code",
   "execution_count": null,
   "metadata": {},
   "outputs": [],
   "source": [
    "#  Generate the summary statistics for the early profit per trade DataFrame\n",
    "\n",
    "profit_0128.describe(), profit_0219.describe(), profit_0314.describe()"
   ]
  },
  {
   "cell_type": "code",
   "execution_count": null,
   "metadata": {},
   "outputs": [],
   "source": [
    "# Plot the results for the early profit per trade DataFrame\n",
    "profit_0128.plot(\n",
    "    figsize=(20, 8),\n",
    "    legend=True,\n",
    "    label=\"BTC Arbitrage Profit\",\n",
    "    ylabel=\"Profit (USD$)\",\n",
    "    title=\"Potential Profit Per Trade - Early Sample Date\",\n",
    "    color=\"#669900\")"
   ]
  },
  {
   "cell_type": "code",
   "execution_count": null,
   "metadata": {},
   "outputs": [],
   "source": [
    "profit_0219.plot(\n",
    "    figsize=(20, 8),\n",
    "    legend=True,\n",
    "    label=\"BTC Arbitrage Profit\",\n",
    "    ylabel=\"Profit (USD$)\",\n",
    "    title=\"Potential Profit Per Trade - Middle Sample Date\",\n",
    "    color=\"#669900\")"
   ]
  },
  {
   "cell_type": "code",
   "execution_count": null,
   "metadata": {},
   "outputs": [],
   "source": [
    "profit_0314.plot(\n",
    "    figsize=(20,8),\n",
    "    legend=True,\n",
    "    label=\"BTC Arbitrage Profit\",\n",
    "    ylabel=\"Profit (USD$)\",\n",
    "    title=\"Potential Profit Per Trade - Later Sample Date\",\n",
    "    color=\"#669900\")"
   ]
  },
  {
   "cell_type": "markdown",
   "metadata": {},
   "source": [
    "#### 7. Calculate the potential arbitrage profits that you can make on each day. To do so, sum the elements in the profit_per_trade DataFrame."
   ]
  },
  {
   "cell_type": "code",
   "execution_count": null,
   "metadata": {},
   "outputs": [],
   "source": [
    "# Calculate the sum of the potential profits for the early profit per trade DataFrame\n",
    "profit_0128.sum(), profit_0219.sum(), profit_0314.sum()"
   ]
  },
  {
   "cell_type": "markdown",
   "metadata": {},
   "source": [
    "#### 8. Using the `cumsum` function, plot the cumulative sum of each of the three DataFrames. Can you identify any patterns or trends in the profits across the three time periods?"
   ]
  },
  {
   "cell_type": "code",
   "execution_count": null,
   "metadata": {},
   "outputs": [],
   "source": [
    "# Use the cumsum function to calculate the cumulative profits over time for the early profit per trade DataFrame\n",
    "cumulative_profit_0128 = profit_0128.cumsum()\n",
    "cumulative_profit_0219 = profit_0219.cumsum()\n",
    "cumulative_profit_0314 = profit_0314.cumsum()"
   ]
  },
  {
   "cell_type": "code",
   "execution_count": null,
   "metadata": {},
   "outputs": [],
   "source": [
    "# Plot the cumulative sum of profits for the early profit per trade DataFrame\n",
    "cumulative_profit_0128.plot(\n",
    "    figsize=(20, 8),\n",
    "    legend=True,\n",
    "    label=\"Early date - Maximum Potential Arbitrage Profit\", \n",
    "    ylabel=\"Profit (USD$)\",\n",
    "    title=\"Cumulative Profit - Early Sample Date\",\n",
    "    color=\"#669900\")"
   ]
  },
  {
   "cell_type": "code",
   "execution_count": null,
   "metadata": {},
   "outputs": [],
   "source": [
    "# Plot the cumulative sum of profits for the middle profit per trade DataFrame\n",
    "cumulative_profit_0219.plot(\n",
    "    figsize=(20, 8),\n",
    "    legend=True,\n",
    "    label=\"Middle date - Maximum Potential Arbitrage Profit\", \n",
    "    ylabel=\"Profit (USD$)\",\n",
    "    title=\"Cumulative Profit - Middle Sample Date\",\n",
    "    color=\"#669900\")"
   ]
  },
  {
   "cell_type": "code",
   "execution_count": null,
   "metadata": {},
   "outputs": [],
   "source": [
    "# Plot the cumulative sum of profits for the later profit per trade DataFrame\n",
    "cumulative_profit_0314.plot(\n",
    "    figsize=(20, 8),\n",
    "    legend=True,\n",
    "    label=\"Later date - Maximum Potential Arbitrage Profit\", \n",
    "    ylabel=\"Profit (USD$)\",\n",
    "    title=\"Cumulative Profit - Later Sample Date\",\n",
    "    color=\"#669900\"\n",
    ")"
   ]
  },
  {
   "cell_type": "markdown",
   "metadata": {},
   "source": [
    "**Question:** After reviewing the profit information across each date from the different time periods, can you identify any patterns or trends?\n",
    "    \n",
    "**Answer:** Yes, on both early and later sample dates, there are measurable profits and cumulative profits. The data supports the statement that a profit margin from exclusively buying on one exchange and selling on another exchange only works when there is a spread that creates positive arbitrage \n",
    "\n",
    "Early Sample: Jan. 28 - most if not all trades were profitable throughout the day\n",
    "Later Sample: Mar. 14 - during 12:31pm to 12:34pm was the timeframe for profitable trades that day and cumulative profit is measurable.\n",
    "\n",
    "Feb. 19 - which was is middle sample date, there are instances where a positive trade outcome was possible, however, none of those trades also covered the 1% cost to trade.  Therefore the middle date was not a profitable day for arbitrage of BTC between COIN and BTSP exchanges if buying BTC on COIN exchange and selling on BTSP exchange.  Given this tight trading range, the output for the cumulative graph was empty and the x-axis did not populate valid \"Timestamp\" values either. "
   ]
  },
  {
   "cell_type": "markdown",
   "metadata": {},
   "source": [
    "# EXTRA VISUALS AND COMPARISONS\n",
    "```\n",
    "adding a few more visuals to demonstrate observations...\n",
    "```\n"
   ]
  },
  {
   "cell_type": "code",
   "execution_count": null,
   "metadata": {},
   "outputs": [],
   "source": [
    "# close up on February visually confirms that trading range was tight\n",
    "\n",
    "bitstamp['Close'].loc['2018-02-01' : '2018-02-28'].plot(\n",
    "    figsize=(18,6),\n",
    "    legend=True,\n",
    "    ylabel=\"BTC Price (USD$)\",\n",
    "    title=\"BTC Arbitrage - Exhibit A: BTSP and COIN - Feb. 2018\",\n",
    "    color=\"#666600\",\n",
    "    label=\"Bitstamp\"\n",
    ")\n",
    "coinbase['Close'].loc['2018-02-01' : '2018-02-28'].plot(\n",
    "    figsize=(18,6),\n",
    "    legend=True,\n",
    "    color=\"#ff9900\",\n",
    "    label=\"Coinbase\"\n",
    ")"
   ]
  },
  {
   "cell_type": "markdown",
   "metadata": {},
   "source": [
    "# The most profitable arbitrage window for Q1 2018 was January 27-29:\n",
    "### *a visual analysis of the dataframes reveals widespread arbitrage opportunities*...\n",
    "### 'BUY' *BTC* on COIN exchange, then 'SELL' the *BTC* on the BTSP exchange."
   ]
  },
  {
   "cell_type": "code",
   "execution_count": null,
   "metadata": {},
   "outputs": [],
   "source": [
    "### Jan. 27 to Jan. 29 #### BTSP > COIN\n",
    "\n",
    "widespread_btsp = btsp.loc[ \n",
    "    \"2018-01-27\":\"2018-01-29\"\n",
    "]\n",
    "widespread_coin = coin.loc[\n",
    "    \"2018-01-27\":\"2018-01-29\"\n",
    "]"
   ]
  },
  {
   "cell_type": "code",
   "execution_count": null,
   "metadata": {},
   "outputs": [],
   "source": [
    "# January 27-29 - largest visual separation for 'BTC' arbitrage \n",
    "\n",
    "ax=widespread_btsp.plot(\n",
    "    legend=True,\n",
    "    figsize=(18,6),\n",
    "    ylabel=\"BTC Price (USD$)\",\n",
    "    title=\"Best 3-day Window of BTC Arbitrage Opportunites - Q1 2018: BTSP and COIN\",\n",
    "    color=\"#666600\", \n",
    "    label=\"BTSP\",\n",
    "    )\n",
    "widespread_coin.plot(\n",
    "    ax=ax,\n",
    "    legend=True,\n",
    "    color=\"#ff9900\",\n",
    "    label=\"COIN\"\n",
    "    )"
   ]
  },
  {
   "cell_type": "code",
   "execution_count": null,
   "metadata": {},
   "outputs": [],
   "source": [
    "# Using the date range that you have selected, calculate the arbitrage spread for 'widespread_arb_window'\n",
    "# by subtracting the lower-priced exchange from the higher-priced one\n",
    "\n",
    "# BTSP > COIN - for BTC\n",
    "widespread_arb_window = widespread_btsp['Close'] - widespread_coin['Close']"
   ]
  },
  {
   "cell_type": "code",
   "execution_count": null,
   "metadata": {},
   "outputs": [],
   "source": [
    "widespread_arb_window"
   ]
  },
  {
   "cell_type": "code",
   "execution_count": null,
   "metadata": {},
   "outputs": [],
   "source": [
    "# Visualize the arbitrage spread from late in the dataset in a box plot\n",
    "widespread_arb_window.plot(\n",
    "    kind=\"box\",\n",
    "    legend=True,\n",
    "    figsize=(10,4),\n",
    "    title=\"Maximum Profit Opportunity Window - BTC Arbitrage Spread: Jan.27-29, 2018\"\n",
    ")"
   ]
  },
  {
   "cell_type": "code",
   "execution_count": null,
   "metadata": {},
   "outputs": [],
   "source": [
    "widespread_return = widespread_arb_window[widespread_arb_window > 0] / widespread_coin['Close']"
   ]
  },
  {
   "cell_type": "code",
   "execution_count": null,
   "metadata": {},
   "outputs": [],
   "source": [
    "widespread_return.head(), widespread_return.tail()"
   ]
  },
  {
   "cell_type": "code",
   "execution_count": null,
   "metadata": {},
   "outputs": [],
   "source": [
    "widespread_return.describe()"
   ]
  },
  {
   "cell_type": "code",
   "execution_count": null,
   "metadata": {},
   "outputs": [],
   "source": [
    "widespread_profitable_trades = widespread_return[widespread_return > .01]"
   ]
  },
  {
   "cell_type": "code",
   "execution_count": null,
   "metadata": {},
   "outputs": [],
   "source": [
    "widespread_profitable_trades"
   ]
  },
  {
   "cell_type": "code",
   "execution_count": null,
   "metadata": {},
   "outputs": [],
   "source": [
    "widespread_profitable_trades.describe()"
   ]
  },
  {
   "cell_type": "code",
   "execution_count": null,
   "metadata": {},
   "outputs": [],
   "source": [
    "widespread_profits = widespread_profitable_trades * widespread_coin['Close']"
   ]
  },
  {
   "cell_type": "code",
   "execution_count": null,
   "metadata": {},
   "outputs": [],
   "source": [
    "widespread_profits = widespread_profits.dropna()"
   ]
  },
  {
   "cell_type": "code",
   "execution_count": null,
   "metadata": {},
   "outputs": [],
   "source": [
    "widespread_profits.describe()"
   ]
  },
  {
   "cell_type": "code",
   "execution_count": null,
   "metadata": {},
   "outputs": [],
   "source": [
    "# Plot results for the 'widespread_profits' \n",
    "widespread_profits.plot(\n",
    "    figsize=(20, 8),\n",
    "    legend=True,\n",
    "    label=\"BTC - Maximum Potential Arbitrage Profit\", \n",
    "    ylabel=\"Profit (USD$)\",\n",
    "    title=\"Cumulative Profit - Jan.27 to Jan. 29\",\n",
    "    color=\"#669900\")"
   ]
  },
  {
   "cell_type": "code",
   "execution_count": null,
   "metadata": {},
   "outputs": [],
   "source": [
    "widespread_profits.sum()"
   ]
  },
  {
   "cell_type": "code",
   "execution_count": null,
   "metadata": {},
   "outputs": [],
   "source": [
    "cumulative_widespread_profit = widespread_profits.cumsum()"
   ]
  },
  {
   "cell_type": "code",
   "execution_count": null,
   "metadata": {},
   "outputs": [],
   "source": [
    "cumulative_widespread_profit.plot(\n",
    "    figsize=(20, 8),\n",
    "    legend=True,\n",
    "    label=\"'BTC' Cumulative Maximum Potential Arbitrage Profit\", \n",
    "    ylabel=\"Arbitrage Profit (USD$)\", \n",
    "    title=\"Cumulative Profit - Jan.27 to Jan. 29\",\n",
    "    color=\"#669900\")"
   ]
  }
 ],
 "metadata": {
  "kernelspec": {
   "display_name": "Python (dev)",
   "language": "python",
   "name": "dev"
  },
  "language_info": {
   "codemirror_mode": {
    "name": "ipython",
    "version": 3
   },
   "file_extension": ".py",
   "mimetype": "text/x-python",
   "name": "python",
   "nbconvert_exporter": "python",
   "pygments_lexer": "ipython3",
   "version": "3.7.13"
  }
 },
 "nbformat": 4,
 "nbformat_minor": 4
}
